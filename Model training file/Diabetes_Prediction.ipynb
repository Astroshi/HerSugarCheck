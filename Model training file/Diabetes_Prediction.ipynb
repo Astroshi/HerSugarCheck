{
  "cells": [
    {
      "cell_type": "markdown",
      "metadata": {
        "id": "vlKDH1Hi0mRj"
      },
      "source": [
        "Diabetes prediction using Support Vecor Machine Algorithm"
      ]
    },
    {
      "cell_type": "code",
      "execution_count": null,
      "metadata": {
        "id": "dCXtywCw0tVw"
      },
      "outputs": [],
      "source": [
        "import numpy as np\n",
        "import pandas as pd\n",
        "from sklearn.preprocessing import StandardScaler\n",
        "from sklearn.model_selection import train_test_split\n",
        "from sklearn import svm\n",
        "from sklearn.metrics import accuracy_score"
      ]
    },
    {
      "cell_type": "markdown",
      "metadata": {
        "id": "Tb7_4R5V8OFK"
      },
      "source": [
        "Data collection and analyses\n"
      ]
    },
    {
      "cell_type": "code",
      "execution_count": null,
      "metadata": {
        "id": "igiouE628Qdv"
      },
      "outputs": [],
      "source": [
        "diabetes_dataset = pd.read_csv('/content/diabetes.csv') # Only for females"
      ]
    },
    {
      "cell_type": "code",
      "execution_count": null,
      "metadata": {
        "colab": {
          "base_uri": "https://localhost:8080/",
          "height": 206
        },
        "id": "wWX1eevP8Sz-",
        "outputId": "30d5126f-7513-4453-c634-cb72585a4740"
      },
      "outputs": [],
      "source": [
        "diabetes_dataset.head()"
      ]
    },
    {
      "cell_type": "code",
      "execution_count": null,
      "metadata": {
        "colab": {
          "base_uri": "https://localhost:8080/"
        },
        "id": "Sh28gWpM8WXF",
        "outputId": "4fc5396b-6493-4d15-f282-1c47beedb024"
      },
      "outputs": [],
      "source": [
        "diabetes_dataset.shape\n"
      ]
    },
    {
      "cell_type": "code",
      "execution_count": null,
      "metadata": {
        "colab": {
          "base_uri": "https://localhost:8080/",
          "height": 300
        },
        "id": "V3V5OGR28gzm",
        "outputId": "e2dd0282-4a67-477c-d139-4bfcdd3f9fc4"
      },
      "outputs": [],
      "source": [
        "diabetes_dataset.describe()"
      ]
    },
    {
      "cell_type": "code",
      "execution_count": null,
      "metadata": {
        "colab": {
          "base_uri": "https://localhost:8080/"
        },
        "id": "rppzC9fl8m1B",
        "outputId": "65dc4a72-63d4-4832-ab8e-5143e8ee6dc6"
      },
      "outputs": [],
      "source": [
        "diabetes_dataset[\"Pregnancies\"].idxmax() # index where the number of preganancies value is more"
      ]
    },
    {
      "cell_type": "code",
      "execution_count": null,
      "metadata": {
        "colab": {
          "base_uri": "https://localhost:8080/"
        },
        "id": "cIhMQ0U79BHP",
        "outputId": "e05902fb-0374-4cd6-a043-dee41e4e9493"
      },
      "outputs": [],
      "source": [
        "print(diabetes_dataset.iloc[159])"
      ]
    },
    {
      "cell_type": "code",
      "execution_count": null,
      "metadata": {
        "colab": {
          "base_uri": "https://localhost:8080/",
          "height": 366
        },
        "id": "g56BwMcK-hq1",
        "outputId": "f7de767c-966e-45df-ef2e-6f706fc2a41d"
      },
      "outputs": [],
      "source": [
        "diabetes_dataset.isnull().sum()"
      ]
    },
    {
      "cell_type": "code",
      "execution_count": null,
      "metadata": {
        "colab": {
          "base_uri": "https://localhost:8080/",
          "height": 178
        },
        "id": "2lmzu_wc-271",
        "outputId": "54f5e1b6-3de9-4c9a-eb81-698787c9d15f"
      },
      "outputs": [],
      "source": [
        "diabetes_dataset[\"Outcome\"].value_counts() # non diabetic, 1 diabetic"
      ]
    },
    {
      "cell_type": "code",
      "execution_count": null,
      "metadata": {
        "colab": {
          "base_uri": "https://localhost:8080/",
          "height": 143
        },
        "id": "LrDrPmu__FHX",
        "outputId": "c09347ed-db05-4929-be12-e93dd86ee8a4"
      },
      "outputs": [],
      "source": [
        "diabetes_dataset.groupby('Outcome').mean()"
      ]
    },
    {
      "cell_type": "code",
      "execution_count": null,
      "metadata": {
        "id": "SzoxiLDG-jnU"
      },
      "outputs": [],
      "source": [
        "# Target and Values\n",
        "X=diabetes_dataset.drop(columns='Outcome',axis=1)\n",
        "Y=diabetes_dataset['Outcome']"
      ]
    },
    {
      "cell_type": "markdown",
      "metadata": {
        "id": "cTC9zXMaAPqB"
      },
      "source": [
        "Data Standardization\n"
      ]
    },
    {
      "cell_type": "code",
      "execution_count": null,
      "metadata": {
        "id": "aUykx9C8ATnq"
      },
      "outputs": [],
      "source": [
        "scaler= StandardScaler()"
      ]
    },
    {
      "cell_type": "code",
      "execution_count": null,
      "metadata": {
        "id": "vWPTzj48dbKf"
      },
      "outputs": [],
      "source": [
        "trained_scaler=scaler.fit(X)"
      ]
    },
    {
      "cell_type": "code",
      "execution_count": null,
      "metadata": {
        "id": "wxloM_n3AWtq"
      },
      "outputs": [],
      "source": [
        "Standardized_Data=scaler.fit_transform(X) # Getting the data to a common range"
      ]
    },
    {
      "cell_type": "code",
      "execution_count": null,
      "metadata": {
        "id": "VtlsAKSNAg2M"
      },
      "outputs": [],
      "source": [
        "X=Standardized_Data\n",
        "Y=diabetes_dataset['Outcome']"
      ]
    },
    {
      "cell_type": "code",
      "execution_count": null,
      "metadata": {
        "id": "YSRlWFhlBAU2"
      },
      "outputs": [],
      "source": [
        "X_train,X_test,Y_train,Y_test=train_test_split(X,Y,test_size=0.2,stratify=Y,random_state=2) # startification keeps the proportion of training and test data similar"
      ]
    },
    {
      "cell_type": "markdown",
      "metadata": {
        "id": "v3Hd5YvcCdI-"
      },
      "source": [
        "Training the model"
      ]
    },
    {
      "cell_type": "code",
      "execution_count": null,
      "metadata": {
        "id": "xtcm51eUBZ39"
      },
      "outputs": [],
      "source": [
        "model=svm.SVC(kernel='linear')"
      ]
    },
    {
      "cell_type": "code",
      "execution_count": null,
      "metadata": {
        "colab": {
          "base_uri": "https://localhost:8080/",
          "height": 80
        },
        "id": "vpg_VMumBivX",
        "outputId": "1ef7b0a3-efcb-466a-f907-a4b8d7cb5cef"
      },
      "outputs": [],
      "source": [
        "model.fit(X_train,Y_train)"
      ]
    },
    {
      "cell_type": "markdown",
      "metadata": {
        "id": "9qR5YMXMCjoB"
      },
      "source": [
        "Model Evaluation"
      ]
    },
    {
      "cell_type": "code",
      "execution_count": null,
      "metadata": {
        "colab": {
          "base_uri": "https://localhost:8080/"
        },
        "id": "lsg48iikB3DK",
        "outputId": "94f08fbf-2761-49d4-c36e-14e1a280a577"
      },
      "outputs": [],
      "source": [
        "accuracy_score(model.predict(X_train),Y_train)"
      ]
    },
    {
      "cell_type": "code",
      "execution_count": null,
      "metadata": {
        "colab": {
          "base_uri": "https://localhost:8080/"
        },
        "id": "otDmtp5xCMyI",
        "outputId": "3aaf8974-3929-4ee9-c1c8-fefdc8de5dd1"
      },
      "outputs": [],
      "source": [
        "accuracy_score(model.predict(X_test),Y_test)"
      ]
    },
    {
      "cell_type": "markdown",
      "metadata": {
        "id": "uhV9G0EcCrqg"
      },
      "source": [
        "Diabetes Prediction System"
      ]
    },
    {
      "cell_type": "code",
      "execution_count": null,
      "metadata": {
        "colab": {
          "base_uri": "https://localhost:8080/"
        },
        "id": "kqNAxMw8C86H",
        "outputId": "e5cf9cd0-e49c-4301-921a-4a3b53c0ca37"
      },
      "outputs": [],
      "source": [
        "input_data=(6,148,72,35,0,33.6,0.627,50)\n",
        "input_data=np.asarray(input_data)# 1D vector\n",
        "input_data=input_data.reshape(1,-1) # converting flat vector in 2d (single row matrix )matrix. As an instance, [a,b,c]---> [[a,b,c]]// N samples N features\n",
        "input_data=scaler.transform(input_data)\n",
        "prediction=model.predict(input_data)\n",
        "print(prediction)\n",
        "if prediction[0]==0:\n",
        "  print(\"Non Diabetic\")\n",
        "else:\n",
        "  print(\"Diabetic\")"
      ]
    },
    {
      "cell_type": "markdown",
      "metadata": {
        "id": "-fgSsqImY6ep"
      },
      "source": [
        "Saving the trained model"
      ]
    },
    {
      "cell_type": "code",
      "execution_count": null,
      "metadata": {
        "id": "xMk3M_RMY8yx"
      },
      "outputs": [],
      "source": [
        "import pickle"
      ]
    },
    {
      "cell_type": "code",
      "execution_count": null,
      "metadata": {
        "id": "pGmNvYrgtVtV"
      },
      "outputs": [],
      "source": [
        "# Save to file in Colab's local environment\n",
        "file='scaler.sav'\n",
        "pickle.dump(trained_scaler,open(file,'wb'))"
      ]
    },
    {
      "cell_type": "code",
      "execution_count": null,
      "metadata": {
        "id": "G237opTcY_g5"
      },
      "outputs": [],
      "source": [
        "file='trained_model.sav'\n",
        "pickle.dump(model,open(file,'wb')) # wb= writing model in in binary"
      ]
    },
    {
      "cell_type": "code",
      "execution_count": null,
      "metadata": {
        "id": "VhO7vRQyZ3k2"
      },
      "outputs": [],
      "source": [
        "# Loading the saved model\n",
        "loaded_scaler=pickle.load(open('scaler.sav','rb')) # rb= reading model in binary\n",
        "loaded_model=pickle.load(open('trained_model.sav','rb')) # read in binary"
      ]
    },
    {
      "cell_type": "code",
      "execution_count": null,
      "metadata": {
        "colab": {
          "base_uri": "https://localhost:8080/"
        },
        "id": "yI6jC16haCsP",
        "outputId": "78239ffc-7aa2-4c5b-87a3-64ac5622d1e1"
      },
      "outputs": [],
      "source": [
        "input_data=(6,148,72,35,0,33.6,0.627,50)\n",
        "input_data=np.asarray(input_data)\n",
        "input_data=input_data.reshape(1,-1)\n",
        "input_data=scaler.transform(input_data)\n",
        "prediction=loaded_model.predict(input_data)\n",
        "print(prediction)\n",
        "if prediction[0]==0:\n",
        "  print(\"Non Diabetic\")\n",
        "else:\n",
        "  print(\"Diabetic\")"
      ]
    }
  ],
  "metadata": {
    "colab": {
      "provenance": []
    },
    "kernelspec": {
      "display_name": "Python 3",
      "name": "python3"
    },
    "language_info": {
      "name": "python"
    }
  },
  "nbformat": 4,
  "nbformat_minor": 0
}
